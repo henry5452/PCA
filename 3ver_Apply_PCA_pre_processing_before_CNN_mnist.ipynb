{
 "cells": [
  {
   "cell_type": "markdown",
   "metadata": {
    "colab_type": "text",
    "id": "cEm47zgcD-Zk"
   },
   "source": [
    "程式碼來源:https://www.kaggle.com/pmmilewski/pca-decomposition-and-keras-neural-network/notebook"
   ]
  },
  {
   "cell_type": "code",
   "execution_count": 2,
   "metadata": {
    "colab": {
     "base_uri": "https://localhost:8080/",
     "height": 530
    },
    "colab_type": "code",
    "id": "X9dLt94ND-Zr",
    "outputId": "89de59ac-3390-4a74-d916-4397d5809539"
   },
   "outputs": [
    {
     "name": "stdout",
     "output_type": "stream",
     "text": [
      "WARNING:tensorflow:From <ipython-input-2-7f69842a003a>:12: read_data_sets (from tensorflow.contrib.learn.python.learn.datasets.mnist) is deprecated and will be removed in a future version.\n",
      "Instructions for updating:\n",
      "Please use alternatives such as official/mnist/dataset.py from tensorflow/models.\n",
      "WARNING:tensorflow:From /usr/local/lib/python3.6/dist-packages/tensorflow/contrib/learn/python/learn/datasets/mnist.py:260: maybe_download (from tensorflow.contrib.learn.python.learn.datasets.base) is deprecated and will be removed in a future version.\n",
      "Instructions for updating:\n",
      "Please write your own downloading logic.\n",
      "WARNING:tensorflow:From /usr/local/lib/python3.6/dist-packages/tensorflow/contrib/learn/python/learn/datasets/base.py:252: _internal_retry.<locals>.wrap.<locals>.wrapped_fn (from tensorflow.contrib.learn.python.learn.datasets.base) is deprecated and will be removed in a future version.\n",
      "Instructions for updating:\n",
      "Please use urllib or similar directly.\n",
      "Successfully downloaded train-images-idx3-ubyte.gz 9912422 bytes.\n",
      "WARNING:tensorflow:From /usr/local/lib/python3.6/dist-packages/tensorflow/contrib/learn/python/learn/datasets/mnist.py:262: extract_images (from tensorflow.contrib.learn.python.learn.datasets.mnist) is deprecated and will be removed in a future version.\n",
      "Instructions for updating:\n",
      "Please use tf.data to implement this functionality.\n",
      "Extracting MNIST_data/train-images-idx3-ubyte.gz\n",
      "Successfully downloaded train-labels-idx1-ubyte.gz 28881 bytes.\n",
      "WARNING:tensorflow:From /usr/local/lib/python3.6/dist-packages/tensorflow/contrib/learn/python/learn/datasets/mnist.py:267: extract_labels (from tensorflow.contrib.learn.python.learn.datasets.mnist) is deprecated and will be removed in a future version.\n",
      "Instructions for updating:\n",
      "Please use tf.data to implement this functionality.\n",
      "Extracting MNIST_data/train-labels-idx1-ubyte.gz\n",
      "WARNING:tensorflow:From /usr/local/lib/python3.6/dist-packages/tensorflow/contrib/learn/python/learn/datasets/mnist.py:110: dense_to_one_hot (from tensorflow.contrib.learn.python.learn.datasets.mnist) is deprecated and will be removed in a future version.\n",
      "Instructions for updating:\n",
      "Please use tf.one_hot on tensors.\n",
      "Successfully downloaded t10k-images-idx3-ubyte.gz 1648877 bytes.\n",
      "Extracting MNIST_data/t10k-images-idx3-ubyte.gz\n",
      "Successfully downloaded t10k-labels-idx1-ubyte.gz 4542 bytes.\n",
      "Extracting MNIST_data/t10k-labels-idx1-ubyte.gz\n",
      "WARNING:tensorflow:From /usr/local/lib/python3.6/dist-packages/tensorflow/contrib/learn/python/learn/datasets/mnist.py:290: DataSet.__init__ (from tensorflow.contrib.learn.python.learn.datasets.mnist) is deprecated and will be removed in a future version.\n",
      "Instructions for updating:\n",
      "Please use alternatives such as official/mnist/dataset.py from tensorflow/models.\n"
     ]
    }
   ],
   "source": [
    "import numpy as np\n",
    "import pandas as pd\n",
    "import time\n",
    "from sklearn.preprocessing import StandardScaler\n",
    "from sklearn.decomposition import PCA\n",
    "\n",
    "from keras.models import Sequential\n",
    "from keras.utils import np_utils\n",
    "from keras.layers import Dense, Dropout, GaussianNoise, Conv1D,Flatten,Conv2D,MaxPooling2D\n",
    "from keras.preprocessing.image import ImageDataGenerator\n",
    "import tensorflow.examples.tutorials.mnist.input_data as input_data\n",
    "mnist=input_data.read_data_sets(\"MNIST_data/\",one_hot=True)\n",
    "import matplotlib.pyplot as plt\n",
    "import seaborn as sns\n",
    "%matplotlib inline"
   ]
  },
  {
   "cell_type": "code",
   "execution_count": 0,
   "metadata": {
    "colab": {},
    "colab_type": "code",
    "collapsed": true,
    "id": "sza5zLKSD-aT"
   },
   "outputs": [],
   "source": [
    "test = mnist.test.images\n",
    "train = mnist.train.images"
   ]
  },
  {
   "cell_type": "code",
   "execution_count": 4,
   "metadata": {
    "colab": {
     "base_uri": "https://localhost:8080/",
     "height": 316
    },
    "colab_type": "code",
    "id": "qnwrHD7FD-ae",
    "outputId": "accc8d0f-c07d-4c3b-b122-c34ffefac7a4"
   },
   "outputs": [
    {
     "name": "stdout",
     "output_type": "stream",
     "text": [
      "[0. 0. 0. 1. 0. 0. 0. 0. 0. 0.]\n",
      "Which is 3 (3 in [2] position of the vector).\n"
     ]
    },
    {
     "data": {
      "text/plain": [
       "<matplotlib.image.AxesImage at 0x7f7f62b2d4a8>"
      ]
     },
     "execution_count": 4,
     "metadata": {
      "tags": []
     },
     "output_type": "execute_result"
    },
    {
     "data": {
      "image/png": "[encoded data removed]",
      "text/plain": [
       "<matplotlib.figure.Figure at 0x7f7f6c688630>"
      ]
     },
     "metadata": {
      "tags": []
     },
     "output_type": "display_data"
    }
   ],
   "source": [
    "print(mnist.train.labels[1])\n",
    "print('Which is 3 (3 in [2] position of the vector).')\n",
    "plt.imshow(train[1].reshape((28,28)))"
   ]
  },
  {
   "cell_type": "code",
   "execution_count": 0,
   "metadata": {
    "colab": {},
    "colab_type": "code",
    "collapsed": true,
    "id": "cILY6SiyD-av"
   },
   "outputs": [],
   "source": [
    "#PCA preprocessing前的標準化\n",
    "scaler = StandardScaler()\n",
    "scaler.fit(train)\n",
    "X_sc_train = scaler.transform(train)\n",
    "X_sc_test = scaler.transform(test)"
   ]
  },
  {
   "cell_type": "code",
   "execution_count": 10,
   "metadata": {
    "colab": {
     "base_uri": "https://localhost:8080/",
     "height": 420
    },
    "colab_type": "code",
    "id": "RH8VXufJD-a6",
    "outputId": "f6b798c6-0a2f-4f12-d903-dffea2b56bde"
   },
   "outputs": [
    {
     "data": {
      "text/plain": [
       "Text(0,0.5,'Cumulative explained variance')"
      ]
     },
     "execution_count": 10,
     "metadata": {
      "tags": []
     },
     "output_type": "execute_result"
    },
    {
     "data": {
      "image/png": "[encoded data removed]",
      "text/plain": [
       "<matplotlib.figure.Figure at 0x7f7f6301dfd0>"
      ]
     },
     "metadata": {
      "tags": []
     },
     "output_type": "display_data"
    }
   ],
   "source": [
    "pca = PCA(n_components=500)\n",
    "pca.fit(train)\n",
    "plt.figure(figsize=(10,6))\n",
    "plt.title(\"Explained variance ratio\")\n",
    "plt.plot(np.cumsum(pca.explained_variance_ratio_))\n",
    "plt.xlabel('Number of components')\n",
    "plt.ylabel('Cumulative explained variance')"
   ]
  },
  {
   "cell_type": "code",
   "execution_count": 11,
   "metadata": {
    "colab": {
     "base_uri": "https://localhost:8080/",
     "height": 51
    },
    "colab_type": "code",
    "id": "woiX4CpZD-bJ",
    "outputId": "18461cbb-3a4d-4f88-9f5d-b13bce479c4a"
   },
   "outputs": [
    {
     "name": "stdout",
     "output_type": "stream",
     "text": [
      "(55000, 784)\n",
      "(55000, 400)\n"
     ]
    }
   ],
   "source": [
    "NCOMPONENTS = 400\n",
    "\n",
    "pca = PCA(n_components=NCOMPONENTS)\n",
    "#x_pca_train是經標準化再PCA降維後的train dataset(餵給model的)\n",
    "X_pca_train = pca.fit_transform(X_sc_train)\n",
    "#x_pca_test是經標準化再PCA降維後的test dataset(餵給model的)\n",
    "X_pca_test = pca.transform(X_sc_test)\n",
    "pca_std = np.std(X_pca_train)\n",
    "\n",
    "print(X_sc_train.shape)\n",
    "print(X_pca_train.shape)"
   ]
  },
  {
   "cell_type": "code",
   "execution_count": 12,
   "metadata": {
    "colab": {
     "base_uri": "https://localhost:8080/",
     "height": 34
    },
    "colab_type": "code",
    "id": "kV5OYgzJ6bNx",
    "outputId": "6aa02be8-cad7-4265-b272-da24ec752ce6"
   },
   "outputs": [
    {
     "data": {
      "text/plain": [
       "(10000, 400)"
      ]
     },
     "execution_count": 12,
     "metadata": {
      "tags": []
     },
     "output_type": "execute_result"
    }
   ],
   "source": [
    "X_pca_test.shape"
   ]
  },
  {
   "cell_type": "code",
   "execution_count": 0,
   "metadata": {
    "colab": {},
    "colab_type": "code",
    "collapsed": true,
    "id": "tE5SuLCrD-bY"
   },
   "outputs": [],
   "source": [
    "inv_pca = pca.inverse_transform(X_pca_train)\n",
    "inv_sc = scaler.inverse_transform(inv_pca)"
   ]
  },
  {
   "cell_type": "code",
   "execution_count": 0,
   "metadata": {
    "colab": {},
    "colab_type": "code",
    "collapsed": true,
    "id": "pCqoobOyJ7tq"
   },
   "outputs": [],
   "source": [
    "inv_pca_test = pca.inverse_transform(X_pca_test)\n",
    "inv_sc_test = scaler.inverse_transform(inv_pca_test)"
   ]
  },
  {
   "cell_type": "code",
   "execution_count": 33,
   "metadata": {
    "colab": {
     "base_uri": "https://localhost:8080/",
     "height": 51
    },
    "colab_type": "code",
    "id": "Vve1WhXM2sKD",
    "outputId": "28decc92-6dee-4bd4-dd46-f97c8cb6b17f"
   },
   "outputs": [
    {
     "name": "stdout",
     "output_type": "stream",
     "text": [
      "(10000, 784)\n",
      "(10000, 784)\n"
     ]
    }
   ],
   "source": [
    "print(inv_pca_test.shape)\n",
    "print(inv_sc_test.shape)"
   ]
  },
  {
   "cell_type": "code",
   "execution_count": 0,
   "metadata": {
    "colab": {},
    "colab_type": "code",
    "collapsed": true,
    "id": "o9IaC-IND-bm"
   },
   "outputs": [],
   "source": [
    "def side_by_side(indexes):\n",
    "    org = train[indexes].reshape(28,28)\n",
    "    rec = inv_sc[indexes].reshape(28,28)\n",
    "    #print(\"O:\",org,\"\\nR:\",rec[0])\n",
    "    pair = np.concatenate((org, rec), axis=1)\n",
    "    plt.figure(figsize=(4,2))\n",
    "    plt.imshow(pair)"
   ]
  },
  {
   "cell_type": "code",
   "execution_count": 16,
   "metadata": {
    "colab": {
     "base_uri": "https://localhost:8080/",
     "height": 1437
    },
    "colab_type": "code",
    "id": "VwQzRpSXD-b4",
    "outputId": "87123432-55cc-4697-91a6-fc274b73c836",
    "scrolled": true
   },
   "outputs": [
    {
     "data": {
      "image/png": "[encoded data removed]",
      "text/plain": [
       "<matplotlib.figure.Figure at 0x7f7f5da957f0>"
      ]
     },
     "metadata": {
      "tags": []
     },
     "output_type": "display_data"
    },
    {
     "data": {
      "image/png": "[encoded data removed]",
      "text/plain": [
       "<matplotlib.figure.Figure at 0x7f7f5d8a6390>"
      ]
     },
     "metadata": {
      "tags": []
     },
     "output_type": "display_data"
    },
    {
     "data": {
      "image/png": "[encoded data removed]",
      "text/plain": [
       "<matplotlib.figure.Figure at 0x7f7f5d8655f8>"
      ]
     },
     "metadata": {
      "tags": []
     },
     "output_type": "display_data"
    },
    {
     "data": {
      "image/png": "[encoded data removed]",
      "text/plain": [
       "<matplotlib.figure.Figure at 0x7f7f5d822860>"
      ]
     },
     "metadata": {
      "tags": []
     },
     "output_type": "display_data"
    },
    {
     "data": {
      "image/png": "[encoded data removed]",
      "text/plain": [
       "<matplotlib.figure.Figure at 0x7f7f5d8345f8>"
      ]
     },
     "metadata": {
      "tags": []
     },
     "output_type": "display_data"
    },
    {
     "data": {
      "image/png": "[encoded data removed]",
      "text/plain": [
       "<matplotlib.figure.Figure at 0x7f7f5d80fd30>"
      ]
     },
     "metadata": {
      "tags": []
     },
     "output_type": "display_data"
    },
    {
     "data": {
      "image/png": "[encoded data removed]",
      "text/plain": [
       "<matplotlib.figure.Figure at 0x7f7f5d7d0d68>"
      ]
     },
     "metadata": {
      "tags": []
     },
     "output_type": "display_data"
    },
    {
     "data": {
      "image/png": "[encoded data removed]",
      "text/plain": [
       "<matplotlib.figure.Figure at 0x7f7f5d78ccc0>"
      ]
     },
     "metadata": {
      "tags": []
     },
     "output_type": "display_data"
    },
    {
     "data": {
      "image/png": "[encoded data removed]",
      "text/plain": [
       "<matplotlib.figure.Figure at 0x7f7f5d749eb8>"
      ]
     },
     "metadata": {
      "tags": []
     },
     "output_type": "display_data"
    },
    {
     "data": {
      "image/png": "[encoded data removed]",
      "text/plain": [
       "<matplotlib.figure.Figure at 0x7f7f5d7038d0>"
      ]
     },
     "metadata": {
      "tags": []
     },
     "output_type": "display_data"
    }
   ],
   "source": [
    "for index in range(0,10):\n",
    "    side_by_side(index)"
   ]
  },
  {
   "cell_type": "code",
   "execution_count": 0,
   "metadata": {
    "colab": {},
    "colab_type": "code",
    "collapsed": true,
    "id": "Emqw_yA7coCb"
   },
   "outputs": [],
   "source": [
    "org = train.reshape(55000,28,28,1) # 原本的mnist.train.image資料集\n",
    "rec = inv_sc.reshape(55000,28,28,1) # mnist.train.image經過PCA除噪音之後轉換回去的train dataset\n",
    "red=X_pca_train.reshape(55000,20,20,1)# mnist.train.image經過PCA降維之後轉換回去的train dataset\n",
    "red_test=X_pca_test.reshape(10000,20,20,1)# mnist.test.image經過PCA降維之後轉換回去的test dataset\n",
    "rec_test=inv_sc_test.reshape(10000,28,28,1)"
   ]
  },
  {
   "cell_type": "markdown",
   "metadata": {
    "colab_type": "text",
    "id": "loHBXuVJcoCn"
   },
   "source": [
    "## PCA降維預處理搭配CNN"
   ]
  },
  {
   "cell_type": "code",
   "execution_count": 19,
   "metadata": {
    "colab": {
     "base_uri": "https://localhost:8080/",
     "height": 1598
    },
    "colab_type": "code",
    "id": "m3MPNLXqcoCr",
    "outputId": "44a52654-5832-49e9-e21a-d784d965ec0b",
    "scrolled": true
   },
   "outputs": [
    {
     "name": "stdout",
     "output_type": "stream",
     "text": [
      "_________________________________________________________________\n",
      "Layer (type)                 Output Shape              Param #   \n",
      "=================================================================\n",
      "conv2d_1 (Conv2D)            (None, 20, 20, 25)        250       \n",
      "_________________________________________________________________\n",
      "activation_1 (Activation)    (None, 20, 20, 25)        0         \n",
      "_________________________________________________________________\n",
      "max_pooling2d_1 (MaxPooling2 (None, 10, 10, 25)        0         \n",
      "_________________________________________________________________\n",
      "conv2d_2 (Conv2D)            (None, 10, 10, 50)        11300     \n",
      "_________________________________________________________________\n",
      "activation_2 (Activation)    (None, 10, 10, 50)        0         \n",
      "_________________________________________________________________\n",
      "max_pooling2d_2 (MaxPooling2 (None, 5, 5, 50)          0         \n",
      "_________________________________________________________________\n",
      "dropout_1 (Dropout)          (None, 5, 5, 50)          0         \n",
      "_________________________________________________________________\n",
      "flatten_1 (Flatten)          (None, 1250)              0         \n",
      "_________________________________________________________________\n",
      "dense_1 (Dense)              (None, 200)               250200    \n",
      "_________________________________________________________________\n",
      "activation_3 (Activation)    (None, 200)               0         \n",
      "_________________________________________________________________\n",
      "dense_2 (Dense)              (None, 10)                2010      \n",
      "_________________________________________________________________\n",
      "activation_4 (Activation)    (None, 10)                0         \n",
      "=================================================================\n",
      "Total params: 263,760\n",
      "Trainable params: 263,760\n",
      "Non-trainable params: 0\n",
      "_________________________________________________________________\n",
      "Train on 44000 samples, validate on 11000 samples\n",
      "Epoch 1/30\n",
      " - 29s - loss: 1.0853 - acc: 0.7186 - val_loss: 0.4733 - val_acc: 0.9033\n",
      "Epoch 2/30\n",
      " - 28s - loss: 0.4717 - acc: 0.8872 - val_loss: 0.3789 - val_acc: 0.9075\n",
      "Epoch 3/30\n",
      " - 29s - loss: 0.3576 - acc: 0.9107 - val_loss: 0.2775 - val_acc: 0.9353\n",
      "Epoch 4/30\n",
      " - 29s - loss: 0.2991 - acc: 0.9232 - val_loss: 0.2501 - val_acc: 0.9375\n",
      "Epoch 5/30\n",
      " - 29s - loss: 0.2651 - acc: 0.9308 - val_loss: 0.2277 - val_acc: 0.9436\n",
      "Epoch 6/30\n",
      " - 29s - loss: 0.2333 - acc: 0.9377 - val_loss: 0.2127 - val_acc: 0.9475\n",
      "Epoch 7/30\n",
      " - 29s - loss: 0.2125 - acc: 0.9432 - val_loss: 0.2230 - val_acc: 0.9443\n",
      "Epoch 8/30\n",
      " - 29s - loss: 0.1961 - acc: 0.9468 - val_loss: 0.1904 - val_acc: 0.9528\n",
      "Epoch 9/30\n",
      " - 29s - loss: 0.1782 - acc: 0.9512 - val_loss: 0.2065 - val_acc: 0.9467\n",
      "Epoch 10/30\n",
      " - 29s - loss: 0.1688 - acc: 0.9543 - val_loss: 0.1745 - val_acc: 0.9560\n",
      "Epoch 11/30\n",
      " - 29s - loss: 0.1556 - acc: 0.9580 - val_loss: 0.1882 - val_acc: 0.9533\n",
      "Epoch 12/30\n",
      " - 29s - loss: 0.1449 - acc: 0.9596 - val_loss: 0.1751 - val_acc: 0.9562\n",
      "Epoch 13/30\n",
      " - 29s - loss: 0.1361 - acc: 0.9636 - val_loss: 0.1677 - val_acc: 0.9586\n",
      "Epoch 14/30\n",
      " - 29s - loss: 0.1318 - acc: 0.9645 - val_loss: 0.1670 - val_acc: 0.9576\n",
      "Epoch 15/30\n",
      " - 29s - loss: 0.1247 - acc: 0.9670 - val_loss: 0.1676 - val_acc: 0.9583\n",
      "Epoch 16/30\n",
      " - 29s - loss: 0.1172 - acc: 0.9678 - val_loss: 0.1608 - val_acc: 0.9597\n",
      "Epoch 17/30\n",
      " - 29s - loss: 0.1095 - acc: 0.9721 - val_loss: 0.1709 - val_acc: 0.9572\n",
      "Epoch 18/30\n",
      " - 29s - loss: 0.1027 - acc: 0.9724 - val_loss: 0.1599 - val_acc: 0.9604\n",
      "Epoch 19/30\n",
      " - 29s - loss: 0.0988 - acc: 0.9742 - val_loss: 0.1627 - val_acc: 0.9613\n",
      "Epoch 20/30\n",
      " - 29s - loss: 0.0960 - acc: 0.9751 - val_loss: 0.1634 - val_acc: 0.9595\n",
      "Epoch 21/30\n",
      " - 29s - loss: 0.0900 - acc: 0.9758 - val_loss: 0.1610 - val_acc: 0.9623\n",
      "Epoch 22/30\n",
      " - 29s - loss: 0.0855 - acc: 0.9768 - val_loss: 0.1620 - val_acc: 0.9622\n",
      "Epoch 23/30\n",
      " - 29s - loss: 0.0810 - acc: 0.9788 - val_loss: 0.1726 - val_acc: 0.9596\n",
      "Epoch 24/30\n",
      " - 29s - loss: 0.0788 - acc: 0.9804 - val_loss: 0.1681 - val_acc: 0.9590\n",
      "Epoch 25/30\n",
      " - 29s - loss: 0.0758 - acc: 0.9810 - val_loss: 0.1591 - val_acc: 0.9631\n",
      "Epoch 26/30\n",
      " - 29s - loss: 0.0730 - acc: 0.9812 - val_loss: 0.1632 - val_acc: 0.9639\n",
      "Epoch 27/30\n",
      " - 29s - loss: 0.0685 - acc: 0.9830 - val_loss: 0.1729 - val_acc: 0.9599\n",
      "Epoch 28/30\n",
      " - 29s - loss: 0.0665 - acc: 0.9835 - val_loss: 0.1609 - val_acc: 0.9615\n",
      "Epoch 29/30\n",
      " - 29s - loss: 0.0646 - acc: 0.9843 - val_loss: 0.1664 - val_acc: 0.9631\n",
      "Epoch 30/30\n",
      " - 29s - loss: 0.0631 - acc: 0.9848 - val_loss: 0.1622 - val_acc: 0.9641\n",
      "Train Finished takes: 861.6924738883972 sec\n"
     ]
    }
   ],
   "source": [
    "#凱華建的Keras版CNN模型\n",
    "from keras.models import Sequential \n",
    "from keras.layers import Dense, Activation, Flatten, Conv2D, MaxPooling2D \n",
    "from keras.optimizers import Adamax,SGD,RMSprop,Adam,Adagrad,Nadam,Adadelta\n",
    "from keras import regularizers\n",
    "\n",
    "#---------- Build Model ---------- #\n",
    "filters_1 = 32\n",
    "activation_ = \"relu\" \n",
    "layer_CNNnum = 4\n",
    "layer_FCNnum = 1\n",
    "FCN_Dense = 200\n",
    "loss_ = \"categorical_crossentropy\" \n",
    "BatchSize = 200\n",
    "optimizer_ = RMSprop()\n",
    "lr_ = 0.001\n",
    "Epoch = 30\n",
    "\n",
    "tStart = time.time()\n",
    "\n",
    "model = Sequential()\n",
    "\n",
    "# Conv 1\n",
    "model.add(Conv2D(25, (3, 3), padding='same', input_shape=(20,20,1), kernel_regularizer=regularizers.l2(0.1)))\n",
    "model.add(Activation('relu'))\n",
    "model.add(MaxPooling2D(pool_size=(2, 2)))\n",
    "# Conv 2 \n",
    "model.add(Conv2D( 50, (3, 3), padding='same'))\n",
    "model.add(Activation('relu'))\n",
    "model.add(MaxPooling2D(pool_size=(2, 2)))\n",
    "model.add(Dropout(0.2))\n",
    "'''\n",
    "# Conv 3\n",
    "from keras.layers import Dropout\n",
    "rate=0.35\n",
    "model.add(Dropout(rate))\n",
    "model.add(Conv2D(128, (3, 3), padding='same'))\n",
    "model.add(Activation('relu'))\n",
    "model.add(MaxPooling2D(pool_size=(2, 2)))\n",
    "model.add(Dropout(rate))\n",
    "# Conv 4\n",
    "model.add(Conv2D(256, (3, 3), padding='same'))\n",
    "model.add(Activation('relu'))\n",
    "model.add(MaxPooling2D(pool_size=(2, 2)))\n",
    "model.add(Dropout(rate))\n",
    "'''\n",
    "\n",
    "# full NN 1 \n",
    "model.add(Flatten())\n",
    "model.add(Dense(200))\n",
    "model.add(Activation('relu'))\n",
    "# output\n",
    "model.add(Dense(10))\n",
    "model.add(Activation('softmax'))\n",
    "\n",
    "#---------- Compile Model ---------- #\n",
    "model.compile(loss=\"categorical_crossentropy\",  # mse → categorical_crossentropy\n",
    "              optimizer=RMSprop(),              # SGD → RMSprop\n",
    "              metrics=['accuracy'])\n",
    "\n",
    "# Model Summary \n",
    "model.summary() \n",
    "\n",
    "\n",
    "#---------- Training Model ---------- #\n",
    "train_history = model.fit( red,mnist.train.labels, batch_size = BatchSize, epochs = Epoch,validation_split=0.2,verbose=2 ) \n",
    "\n",
    "tEnd = time.time()\n",
    "duration=tEnd-tStart\n",
    "print(\"Train Finished takes:\",duration,\"sec\")"
   ]
  },
  {
   "cell_type": "code",
   "execution_count": 23,
   "metadata": {
    "colab": {
     "base_uri": "https://localhost:8080/",
     "height": 68
    },
    "colab_type": "code",
    "id": "MwcJC_NvJPb4",
    "outputId": "fff9ea37-b57a-4c34-f5c3-2d2ae8886d10"
   },
   "outputs": [
    {
     "name": "stdout",
     "output_type": "stream",
     "text": [
      "10000/10000 [==============================] - 3s 276us/step\n",
      "Tesr Finished takes: 2.7665696144104004 sec\n",
      "Accuuracy= 0.9615\n"
     ]
    }
   ],
   "source": [
    "#Ealuation\n",
    "tStart1 = time.time()\n",
    "scores=model.evaluate(red_test,mnist.test.labels)\n",
    "tEnd1 = time.time()\n",
    "duration1=tEnd1-tStart1\n",
    "print(\"Test Finished takes:\",duration1,\"sec\")\n",
    "print(\"Accuuracy=\",scores[1])"
   ]
  },
  {
   "cell_type": "markdown",
   "metadata": {
    "colab_type": "text",
    "id": "X4dGQRYAlNZq"
   },
   "source": [
    "PCA降維會遇到Loss壓不下來的問題,時間縮短:或許是我目前還不會搭配PCA預處理之後的參數調整  \n",
    "PCA除噪音會遇到Accuracy微降的問題,時間一樣"
   ]
  },
  {
   "cell_type": "code",
   "execution_count": 0,
   "metadata": {
    "colab": {},
    "colab_type": "code",
    "collapsed": true,
    "id": "lwM27m2B_Cec"
   },
   "outputs": [],
   "source": [
    "#自定義的模型記錄函數\n",
    "def show_train_history(train_history,train,validation):\n",
    "  plt.plot(train_history.history[train])\n",
    "  plt.plot(train_history.history[validation])\n",
    "  plt.title(\"Train History\")\n",
    "  plt.ylabel(train)\n",
    "  plt.xlabel(\"Epoch\")\n",
    "  plt.legend([\"train\",'validation'],loc='upper left')"
   ]
  },
  {
   "cell_type": "code",
   "execution_count": 25,
   "metadata": {
    "colab": {
     "base_uri": "https://localhost:8080/",
     "height": 294
    },
    "colab_type": "code",
    "id": "EbQyo9NBDlgN",
    "outputId": "f2d0d367-0122-4e82-d7d5-5b6bf7a2d728",
    "scrolled": false
   },
   "outputs": [
    {
     "data": {
      "image/png": "[encoded data removed]",
      "text/plain": [
       "<matplotlib.figure.Figure at 0x7f7f5d5f7b70>"
      ]
     },
     "metadata": {
      "tags": []
     },
     "output_type": "display_data"
    }
   ],
   "source": [
    "show_train_history(train_history,\"loss\",\"val_loss\")"
   ]
  },
  {
   "cell_type": "markdown",
   "metadata": {
    "colab_type": "text",
    "id": "j_-l2E4EcoD2"
   },
   "source": [
    "## CNN only"
   ]
  },
  {
   "cell_type": "code",
   "execution_count": 26,
   "metadata": {
    "colab": {
     "base_uri": "https://localhost:8080/",
     "height": 1598
    },
    "colab_type": "code",
    "id": "Ukgpv_RbcoD6",
    "outputId": "db2cc9fd-c6f9-43ca-fde3-f579029cdaf9"
   },
   "outputs": [
    {
     "name": "stdout",
     "output_type": "stream",
     "text": [
      "_________________________________________________________________\n",
      "Layer (type)                 Output Shape              Param #   \n",
      "=================================================================\n",
      "conv2d_3 (Conv2D)            (None, 28, 28, 25)        250       \n",
      "_________________________________________________________________\n",
      "activation_5 (Activation)    (None, 28, 28, 25)        0         \n",
      "_________________________________________________________________\n",
      "max_pooling2d_3 (MaxPooling2 (None, 14, 14, 25)        0         \n",
      "_________________________________________________________________\n",
      "conv2d_4 (Conv2D)            (None, 14, 14, 50)        11300     \n",
      "_________________________________________________________________\n",
      "activation_6 (Activation)    (None, 14, 14, 50)        0         \n",
      "_________________________________________________________________\n",
      "max_pooling2d_4 (MaxPooling2 (None, 7, 7, 50)          0         \n",
      "_________________________________________________________________\n",
      "dropout_2 (Dropout)          (None, 7, 7, 50)          0         \n",
      "_________________________________________________________________\n",
      "flatten_2 (Flatten)          (None, 2450)              0         \n",
      "_________________________________________________________________\n",
      "dense_3 (Dense)              (None, 200)               490200    \n",
      "_________________________________________________________________\n",
      "activation_7 (Activation)    (None, 200)               0         \n",
      "_________________________________________________________________\n",
      "dense_4 (Dense)              (None, 10)                2010      \n",
      "_________________________________________________________________\n",
      "activation_8 (Activation)    (None, 10)                0         \n",
      "=================================================================\n",
      "Total params: 503,760\n",
      "Trainable params: 503,760\n",
      "Non-trainable params: 0\n",
      "_________________________________________________________________\n",
      "Train on 44000 samples, validate on 11000 samples\n",
      "Epoch 1/30\n",
      " - 53s - loss: 0.4056 - acc: 0.9056 - val_loss: 0.1420 - val_acc: 0.9708\n",
      "Epoch 2/30\n",
      " - 53s - loss: 0.1237 - acc: 0.9706 - val_loss: 0.1022 - val_acc: 0.9766\n",
      "Epoch 3/30\n",
      " - 53s - loss: 0.0863 - acc: 0.9784 - val_loss: 0.0809 - val_acc: 0.9789\n",
      "Epoch 4/30\n",
      " - 53s - loss: 0.0687 - acc: 0.9823 - val_loss: 0.0630 - val_acc: 0.9841\n",
      "Epoch 5/30\n",
      " - 53s - loss: 0.0566 - acc: 0.9855 - val_loss: 0.0641 - val_acc: 0.9841\n",
      "Epoch 6/30\n",
      " - 53s - loss: 0.0497 - acc: 0.9868 - val_loss: 0.0518 - val_acc: 0.9884\n",
      "Epoch 7/30\n",
      " - 52s - loss: 0.0444 - acc: 0.9878 - val_loss: 0.0520 - val_acc: 0.9870\n",
      "Epoch 8/30\n",
      " - 53s - loss: 0.0389 - acc: 0.9902 - val_loss: 0.0489 - val_acc: 0.9884\n",
      "Epoch 9/30\n",
      " - 53s - loss: 0.0349 - acc: 0.9908 - val_loss: 0.0566 - val_acc: 0.9855\n",
      "Epoch 10/30\n",
      " - 53s - loss: 0.0322 - acc: 0.9916 - val_loss: 0.0452 - val_acc: 0.9890\n",
      "Epoch 11/30\n",
      " - 53s - loss: 0.0291 - acc: 0.9920 - val_loss: 0.0516 - val_acc: 0.9871\n",
      "Epoch 12/30\n",
      " - 53s - loss: 0.0277 - acc: 0.9929 - val_loss: 0.0427 - val_acc: 0.9903\n",
      "Epoch 13/30\n",
      " - 53s - loss: 0.0250 - acc: 0.9937 - val_loss: 0.0420 - val_acc: 0.9895\n",
      "Epoch 14/30\n",
      " - 52s - loss: 0.0227 - acc: 0.9941 - val_loss: 0.0419 - val_acc: 0.9905\n",
      "Epoch 15/30\n",
      " - 52s - loss: 0.0213 - acc: 0.9945 - val_loss: 0.0499 - val_acc: 0.9879\n",
      "Epoch 16/30\n",
      " - 53s - loss: 0.0196 - acc: 0.9950 - val_loss: 0.0458 - val_acc: 0.9903\n",
      "Epoch 17/30\n",
      " - 53s - loss: 0.0188 - acc: 0.9950 - val_loss: 0.0426 - val_acc: 0.9905\n",
      "Epoch 18/30\n",
      " - 53s - loss: 0.0175 - acc: 0.9958 - val_loss: 0.0413 - val_acc: 0.9902\n",
      "Epoch 19/30\n",
      " - 52s - loss: 0.0167 - acc: 0.9957 - val_loss: 0.0424 - val_acc: 0.9893\n",
      "Epoch 20/30\n",
      " - 53s - loss: 0.0150 - acc: 0.9967 - val_loss: 0.0443 - val_acc: 0.9903\n",
      "Epoch 21/30\n",
      " - 53s - loss: 0.0148 - acc: 0.9965 - val_loss: 0.0448 - val_acc: 0.9905\n",
      "Epoch 22/30\n",
      " - 53s - loss: 0.0139 - acc: 0.9965 - val_loss: 0.0431 - val_acc: 0.9905\n",
      "Epoch 23/30\n",
      " - 53s - loss: 0.0138 - acc: 0.9968 - val_loss: 0.0429 - val_acc: 0.9902\n",
      "Epoch 24/30\n",
      " - 53s - loss: 0.0123 - acc: 0.9971 - val_loss: 0.0461 - val_acc: 0.9895\n",
      "Epoch 25/30\n",
      " - 53s - loss: 0.0120 - acc: 0.9970 - val_loss: 0.0452 - val_acc: 0.9903\n",
      "Epoch 26/30\n",
      " - 53s - loss: 0.0118 - acc: 0.9973 - val_loss: 0.0394 - val_acc: 0.9910\n",
      "Epoch 27/30\n",
      " - 53s - loss: 0.0116 - acc: 0.9973 - val_loss: 0.0439 - val_acc: 0.9905\n",
      "Epoch 28/30\n",
      " - 53s - loss: 0.0112 - acc: 0.9973 - val_loss: 0.0435 - val_acc: 0.9898\n",
      "Epoch 29/30\n",
      " - 53s - loss: 0.0103 - acc: 0.9974 - val_loss: 0.0502 - val_acc: 0.9898\n",
      "Epoch 30/30\n",
      " - 53s - loss: 0.0096 - acc: 0.9977 - val_loss: 0.0474 - val_acc: 0.9900\n",
      "Train Finished takes: 1580.7703335285187 sec\n"
     ]
    }
   ],
   "source": [
    "from keras.models import Sequential \n",
    "from keras.layers import Dense, Activation, Flatten, Conv2D, MaxPooling2D \n",
    "from keras.optimizers import Adamax,SGD,RMSprop,Adam,Adagrad,Nadam,Adadelta\n",
    "from keras import regularizers\n",
    "\n",
    "#---------- Build Model ---------- #\n",
    "filters_1 = 32\n",
    "activation_ = \"relu\" \n",
    "layer_CNNnum = 4\n",
    "layer_FCNnum = 1\n",
    "FCN_Dense = 200\n",
    "loss_ = \"categorical_crossentropy\" \n",
    "BatchSize = 200\n",
    "optimizer_ = RMSprop()\n",
    "lr_ = 0.001\n",
    "Epoch = 30\n",
    "\n",
    "tStart2 = time.time()\n",
    "\n",
    "model = Sequential()\n",
    "\n",
    "# Conv 1\n",
    "model.add(Conv2D(25, (3, 3), padding='same', input_shape=(28,28,1),\n",
    "                kernel_regularizer=regularizers.l2(0.1)))\n",
    "model.add(Activation('relu'))\n",
    "model.add(MaxPooling2D(pool_size=(2, 2)))\n",
    "# Conv 2 \n",
    "model.add(Conv2D( 50, (3, 3), padding='same'))\n",
    "model.add(Activation('relu'))\n",
    "model.add(MaxPooling2D(pool_size=(2, 2)))\n",
    "model.add(Dropout(0.2))\n",
    "'''\n",
    "# Conv 3\n",
    "from keras.layers import Dropout\n",
    "rate=0.35\n",
    "model.add(Dropout(rate))\n",
    "model.add(Conv2D(128, (3, 3), padding='same'))\n",
    "model.add(Activation('relu'))\n",
    "model.add(MaxPooling2D(pool_size=(2, 2)))\n",
    "model.add(Dropout(rate))\n",
    "# Conv 4\n",
    "model.add(Conv2D(256, (3, 3), padding='same'))\n",
    "model.add(Activation('relu'))\n",
    "model.add(MaxPooling2D(pool_size=(2, 2)))\n",
    "model.add(Dropout(rate))\n",
    "'''\n",
    "\n",
    "# full 1\n",
    "model.add(Flatten())\n",
    "model.add(Dense(200))\n",
    "model.add(Activation('relu'))\n",
    "# output\n",
    "model.add(Dense(10))\n",
    "model.add(Activation('softmax'))\n",
    "\n",
    "#---------- Compile Model ---------- #\n",
    "model.compile(loss=\"categorical_crossentropy\",  # mse → categorical_crossentropy\n",
    "              optimizer=RMSprop(),              # SGD → RMSprop\n",
    "              metrics=['accuracy'])\n",
    "\n",
    "# Model Summary \n",
    "model.summary() \n",
    "\n",
    "\n",
    "#---------- Training Model ---------- #\n",
    "train_history_1 = model.fit( org,mnist.train.labels, batch_size = BatchSize, epochs = Epoch,validation_split=0.2,verbose=2 ) \n",
    "\n",
    "tEnd2 = time.time()\n",
    "duration2=tEnd2-tStart2\n",
    "print(\"Train Finished takes:\",duration2,\"sec\")"
   ]
  },
  {
   "cell_type": "code",
   "execution_count": 27,
   "metadata": {
    "colab": {
     "base_uri": "https://localhost:8080/",
     "height": 294
    },
    "colab_type": "code",
    "id": "jgHe7PdIcoEU",
    "outputId": "58993407-42b7-431f-d26e-ec80b47b51ad"
   },
   "outputs": [
    {
     "data": {
      "image/png": "[encoded data removed]",
      "text/plain": [
       "<matplotlib.figure.Figure at 0x7f7f5d8a1240>"
      ]
     },
     "metadata": {
      "tags": []
     },
     "output_type": "display_data"
    }
   ],
   "source": [
    "show_train_history(train_history_1,\"loss\",\"val_loss\")"
   ]
  },
  {
   "cell_type": "code",
   "execution_count": 29,
   "metadata": {
    "colab": {
     "base_uri": "https://localhost:8080/",
     "height": 68
    },
    "colab_type": "code",
    "id": "7SV-Y5YAcoEd",
    "outputId": "caf5dd3d-df68-4c20-fec4-e33570cb4e64"
   },
   "outputs": [
    {
     "name": "stdout",
     "output_type": "stream",
     "text": [
      "10000/10000 [==============================] - 5s 459us/step\n",
      "Test Finished takes: 4.592509508132935 sec\n",
      "Accuuracy= 0.991\n"
     ]
    }
   ],
   "source": [
    "#Ealuation\n",
    "test1=test.reshape(10000,28,28,1)\n",
    "tStart3 = time.time()\n",
    "scores=model.evaluate(test1,mnist.test.labels)\n",
    "tEnd3 = time.time()\n",
    "duration3=tEnd3-tStart3\n",
    "print(\"Test Finished takes:\",duration3,\"sec\")\n",
    "print(\"Accuuracy=\",scores[1])"
   ]
  },
  {
   "cell_type": "markdown",
   "metadata": {
    "colab_type": "text",
    "id": "q8kx61YhTITb"
   },
   "source": [
    "##PCA預處理除噪音搭配CNN"
   ]
  },
  {
   "cell_type": "code",
   "execution_count": 30,
   "metadata": {
    "colab": {
     "base_uri": "https://localhost:8080/",
     "height": 1598
    },
    "colab_type": "code",
    "id": "8oBNYNkqUcnv",
    "outputId": "af253d6f-395b-4042-d8b2-9148733db532"
   },
   "outputs": [
    {
     "name": "stdout",
     "output_type": "stream",
     "text": [
      "_________________________________________________________________\n",
      "Layer (type)                 Output Shape              Param #   \n",
      "=================================================================\n",
      "conv2d_5 (Conv2D)            (None, 28, 28, 25)        250       \n",
      "_________________________________________________________________\n",
      "activation_9 (Activation)    (None, 28, 28, 25)        0         \n",
      "_________________________________________________________________\n",
      "max_pooling2d_5 (MaxPooling2 (None, 14, 14, 25)        0         \n",
      "_________________________________________________________________\n",
      "conv2d_6 (Conv2D)            (None, 14, 14, 50)        11300     \n",
      "_________________________________________________________________\n",
      "activation_10 (Activation)   (None, 14, 14, 50)        0         \n",
      "_________________________________________________________________\n",
      "max_pooling2d_6 (MaxPooling2 (None, 7, 7, 50)          0         \n",
      "_________________________________________________________________\n",
      "dropout_3 (Dropout)          (None, 7, 7, 50)          0         \n",
      "_________________________________________________________________\n",
      "flatten_3 (Flatten)          (None, 2450)              0         \n",
      "_________________________________________________________________\n",
      "dense_5 (Dense)              (None, 200)               490200    \n",
      "_________________________________________________________________\n",
      "activation_11 (Activation)   (None, 200)               0         \n",
      "_________________________________________________________________\n",
      "dense_6 (Dense)              (None, 10)                2010      \n",
      "_________________________________________________________________\n",
      "activation_12 (Activation)   (None, 10)                0         \n",
      "=================================================================\n",
      "Total params: 503,760\n",
      "Trainable params: 503,760\n",
      "Non-trainable params: 0\n",
      "_________________________________________________________________\n",
      "Train on 44000 samples, validate on 11000 samples\n",
      "Epoch 1/30\n",
      " - 54s - loss: 0.4132 - acc: 0.9014 - val_loss: 0.1520 - val_acc: 0.9682\n",
      "Epoch 2/30\n",
      " - 53s - loss: 0.1261 - acc: 0.9700 - val_loss: 0.0949 - val_acc: 0.9793\n",
      "Epoch 3/30\n",
      " - 53s - loss: 0.0861 - acc: 0.9790 - val_loss: 0.0713 - val_acc: 0.9836\n",
      "Epoch 4/30\n",
      " - 53s - loss: 0.0689 - acc: 0.9828 - val_loss: 0.0697 - val_acc: 0.9826\n",
      "Epoch 5/30\n",
      " - 53s - loss: 0.0578 - acc: 0.9848 - val_loss: 0.0499 - val_acc: 0.9882\n",
      "Epoch 6/30\n",
      " - 53s - loss: 0.0485 - acc: 0.9883 - val_loss: 0.0528 - val_acc: 0.9869\n",
      "Epoch 7/30\n",
      " - 53s - loss: 0.0433 - acc: 0.9891 - val_loss: 0.0458 - val_acc: 0.9895\n",
      "Epoch 8/30\n",
      " - 53s - loss: 0.0382 - acc: 0.9904 - val_loss: 0.0482 - val_acc: 0.9881\n",
      "Epoch 9/30\n",
      " - 53s - loss: 0.0341 - acc: 0.9911 - val_loss: 0.0475 - val_acc: 0.9891\n",
      "Epoch 10/30\n",
      " - 53s - loss: 0.0310 - acc: 0.9920 - val_loss: 0.0445 - val_acc: 0.9890\n",
      "Epoch 11/30\n",
      " - 53s - loss: 0.0288 - acc: 0.9925 - val_loss: 0.0444 - val_acc: 0.9885\n",
      "Epoch 12/30\n",
      " - 53s - loss: 0.0268 - acc: 0.9932 - val_loss: 0.0437 - val_acc: 0.9890\n",
      "Epoch 13/30\n",
      " - 53s - loss: 0.0244 - acc: 0.9939 - val_loss: 0.0491 - val_acc: 0.9871\n",
      "Epoch 14/30\n",
      " - 53s - loss: 0.0233 - acc: 0.9941 - val_loss: 0.0410 - val_acc: 0.9893\n",
      "Epoch 15/30\n",
      " - 53s - loss: 0.0211 - acc: 0.9948 - val_loss: 0.0476 - val_acc: 0.9881\n",
      "Epoch 16/30\n",
      " - 53s - loss: 0.0196 - acc: 0.9953 - val_loss: 0.0439 - val_acc: 0.9897\n",
      "Epoch 17/30\n",
      " - 54s - loss: 0.0188 - acc: 0.9952 - val_loss: 0.0445 - val_acc: 0.9884\n",
      "Epoch 18/30\n",
      " - 53s - loss: 0.0179 - acc: 0.9953 - val_loss: 0.0516 - val_acc: 0.9870\n",
      "Epoch 19/30\n",
      " - 53s - loss: 0.0157 - acc: 0.9965 - val_loss: 0.0455 - val_acc: 0.9899\n",
      "Epoch 20/30\n",
      " - 53s - loss: 0.0149 - acc: 0.9966 - val_loss: 0.0483 - val_acc: 0.9878\n",
      "Epoch 21/30\n",
      " - 53s - loss: 0.0144 - acc: 0.9965 - val_loss: 0.0472 - val_acc: 0.9891\n",
      "Epoch 22/30\n",
      " - 53s - loss: 0.0140 - acc: 0.9964 - val_loss: 0.0420 - val_acc: 0.9903\n",
      "Epoch 23/30\n",
      " - 54s - loss: 0.0129 - acc: 0.9968 - val_loss: 0.0415 - val_acc: 0.9909\n",
      "Epoch 24/30\n",
      " - 53s - loss: 0.0128 - acc: 0.9969 - val_loss: 0.0459 - val_acc: 0.9899\n",
      "Epoch 25/30\n",
      " - 53s - loss: 0.0121 - acc: 0.9970 - val_loss: 0.0471 - val_acc: 0.9897\n",
      "Epoch 26/30\n",
      " - 53s - loss: 0.0123 - acc: 0.9970 - val_loss: 0.0437 - val_acc: 0.9899\n",
      "Epoch 27/30\n",
      " - 53s - loss: 0.0113 - acc: 0.9973 - val_loss: 0.0423 - val_acc: 0.9913\n",
      "Epoch 28/30\n",
      " - 53s - loss: 0.0109 - acc: 0.9977 - val_loss: 0.0410 - val_acc: 0.9901\n",
      "Epoch 29/30\n",
      " - 53s - loss: 0.0105 - acc: 0.9975 - val_loss: 0.0435 - val_acc: 0.9913\n",
      "Epoch 30/30\n",
      " - 53s - loss: 0.0095 - acc: 0.9979 - val_loss: 0.0463 - val_acc: 0.9903\n",
      "Train Finished takes: 1599.9126348495483 sec\n"
     ]
    }
   ],
   "source": [
    "from keras.models import Sequential \n",
    "from keras.layers import Dense, Activation, Flatten, Conv2D, MaxPooling2D \n",
    "from keras.optimizers import Adamax,SGD,RMSprop,Adam,Adagrad,Nadam,Adadelta\n",
    "from keras import regularizers\n",
    "\n",
    "#---------- Build Model ---------- #\n",
    "filters_1 = 32\n",
    "activation_ = \"relu\" \n",
    "layer_CNNnum = 4\n",
    "layer_FCNnum = 1\n",
    "FCN_Dense = 200\n",
    "loss_ = \"categorical_crossentropy\" \n",
    "BatchSize = 200\n",
    "optimizer_ = RMSprop()\n",
    "lr_ = 0.001\n",
    "Epoch = 30\n",
    "\n",
    "tStart4 = time.time()\n",
    "\n",
    "model = Sequential()\n",
    "\n",
    "# Conv 1\n",
    "model.add(Conv2D(25, (3, 3), padding='same', input_shape=(28,28,1),\n",
    "                kernel_regularizer=regularizers.l2(0.1)))\n",
    "model.add(Activation('relu'))\n",
    "model.add(MaxPooling2D(pool_size=(2, 2)))\n",
    "# Conv 2 \n",
    "model.add(Conv2D( 50, (3, 3), padding='same'))\n",
    "model.add(Activation('relu'))\n",
    "model.add(MaxPooling2D(pool_size=(2, 2)))\n",
    "model.add(Dropout(0.2))\n",
    "'''\n",
    "# Conv 3\n",
    "from keras.layers import Dropout\n",
    "rate=0.35\n",
    "model.add(Dropout(rate))\n",
    "model.add(Conv2D(128, (3, 3), padding='same'))\n",
    "model.add(Activation('relu'))\n",
    "model.add(MaxPooling2D(pool_size=(2, 2)))\n",
    "model.add(Dropout(rate))\n",
    "# Conv 4\n",
    "model.add(Conv2D(256, (3, 3), padding='same'))\n",
    "model.add(Activation('relu'))\n",
    "model.add(MaxPooling2D(pool_size=(2, 2)))\n",
    "model.add(Dropout(rate))\n",
    "'''\n",
    "\n",
    "# full 1\n",
    "model.add(Flatten())\n",
    "model.add(Dense(200))\n",
    "model.add(Activation('relu'))\n",
    "# output\n",
    "model.add(Dense(10))\n",
    "model.add(Activation('softmax'))\n",
    "\n",
    "#---------- Compile Model ---------- #\n",
    "model.compile(loss=\"categorical_crossentropy\",  # mse → categorical_crossentropy\n",
    "              optimizer=RMSprop(),              # SGD → RMSprop\n",
    "              metrics=['accuracy'])\n",
    "\n",
    "# Model Summary \n",
    "model.summary() \n",
    "\n",
    "\n",
    "#---------- Training Model ---------- #\n",
    "train_history2 = model.fit( rec,mnist.train.labels, batch_size = BatchSize, epochs = Epoch,validation_split=0.2,verbose=2 ) \n",
    "\n",
    "tEnd4 = time.time()\n",
    "duration4=tEnd4-tStart4\n",
    "print(\"Train Finished takes:\",duration4,\"sec\")"
   ]
  },
  {
   "cell_type": "code",
   "execution_count": 31,
   "metadata": {
    "colab": {
     "base_uri": "https://localhost:8080/",
     "height": 294
    },
    "colab_type": "code",
    "id": "74xyLgFoVyOt",
    "outputId": "34fe15da-bd97-4aad-a44c-f99132763044"
   },
   "outputs": [
    {
     "data": {
      "image/png": "[encoded data removed]",
      "text/plain": [
       "<matplotlib.figure.Figure at 0x7f7f59e612e8>"
      ]
     },
     "metadata": {
      "tags": []
     },
     "output_type": "display_data"
    }
   ],
   "source": [
    "show_train_history(train_history2,\"loss\",\"val_loss\")"
   ]
  },
  {
   "cell_type": "code",
   "execution_count": 37,
   "metadata": {
    "colab": {
     "base_uri": "https://localhost:8080/",
     "height": 68
    },
    "colab_type": "code",
    "id": "BTGeR71xZv28",
    "outputId": "a3d7d6af-abee-4bab-99dc-6cb9828e1f54"
   },
   "outputs": [
    {
     "name": "stdout",
     "output_type": "stream",
     "text": [
      "10000/10000 [==============================] - 5s 506us/step\n",
      "Test Finished takes: 5.064165830612183 sec\n",
      "Accuuracy= 0.9915\n"
     ]
    }
   ],
   "source": [
    "#Ealuation\n",
    "tStart5 = time.time()\n",
    "scores=model.evaluate(rec_test,mnist.test.labels)\n",
    "tEnd5 = time.time()\n",
    "duration5=tEnd5-tStart5\n",
    "print(\"Test Finished takes:\",duration5,\"sec\")\n",
    "print(\"Accuuracy=\",scores[1])"
   ]
  },
  {
   "cell_type": "markdown",
   "metadata": {
    "colab_type": "text",
    "id": "dPxNefiucoEp"
   },
   "source": [
    "## 參考別人的CNN------------------------------------------------------------------------------------------------------------"
   ]
  },
  {
   "cell_type": "code",
   "execution_count": 0,
   "metadata": {
    "colab": {},
    "colab_type": "code",
    "id": "aahM8a8XcoEv",
    "outputId": "62ee2b61-1047-4d03-d3d7-bba47c91c7b2"
   },
   "outputs": [
    {
     "name": "stdout",
     "output_type": "stream",
     "text": [
      "_________________________________________________________________\n",
      "Layer (type)                 Output Shape              Param #   \n",
      "=================================================================\n",
      "conv2d_17 (Conv2D)           (None, 28, 28, 32)        320       \n",
      "_________________________________________________________________\n",
      "activation_25 (Activation)   (None, 28, 28, 32)        0         \n",
      "_________________________________________________________________\n",
      "max_pooling2d_17 (MaxPooling (None, 14, 14, 32)        0         \n",
      "_________________________________________________________________\n",
      "conv2d_18 (Conv2D)           (None, 14, 14, 64)        18496     \n",
      "_________________________________________________________________\n",
      "activation_26 (Activation)   (None, 14, 14, 64)        0         \n",
      "_________________________________________________________________\n",
      "max_pooling2d_18 (MaxPooling (None, 7, 7, 64)          0         \n",
      "_________________________________________________________________\n",
      "dropout_13 (Dropout)         (None, 7, 7, 64)          0         \n",
      "_________________________________________________________________\n",
      "conv2d_19 (Conv2D)           (None, 7, 7, 128)         73856     \n",
      "_________________________________________________________________\n",
      "activation_27 (Activation)   (None, 7, 7, 128)         0         \n",
      "_________________________________________________________________\n",
      "max_pooling2d_19 (MaxPooling (None, 3, 3, 128)         0         \n",
      "_________________________________________________________________\n",
      "dropout_14 (Dropout)         (None, 3, 3, 128)         0         \n",
      "_________________________________________________________________\n",
      "conv2d_20 (Conv2D)           (None, 3, 3, 256)         295168    \n",
      "_________________________________________________________________\n",
      "activation_28 (Activation)   (None, 3, 3, 256)         0         \n",
      "_________________________________________________________________\n",
      "max_pooling2d_20 (MaxPooling (None, 1, 1, 256)         0         \n",
      "_________________________________________________________________\n",
      "dropout_15 (Dropout)         (None, 1, 1, 256)         0         \n",
      "_________________________________________________________________\n",
      "flatten_5 (Flatten)          (None, 256)               0         \n",
      "_________________________________________________________________\n",
      "dense_9 (Dense)              (None, 200)               51400     \n",
      "_________________________________________________________________\n",
      "activation_29 (Activation)   (None, 200)               0         \n",
      "_________________________________________________________________\n",
      "dense_10 (Dense)             (None, 10)                2010      \n",
      "_________________________________________________________________\n",
      "activation_30 (Activation)   (None, 10)                0         \n",
      "=================================================================\n",
      "Total params: 441,250\n",
      "Trainable params: 441,250\n",
      "Non-trainable params: 0\n",
      "_________________________________________________________________\n",
      "Train on 44000 samples, validate on 11000 samples\n",
      "Epoch 1/7\n",
      " - 21s - loss: 0.6704 - acc: 0.8081 - val_loss: 0.1487 - val_acc: 0.9681\n",
      "Epoch 2/7\n",
      " - 20s - loss: 0.1723 - acc: 0.9560 - val_loss: 0.1224 - val_acc: 0.9673\n",
      "Epoch 3/7\n",
      " - 20s - loss: 0.1153 - acc: 0.9694 - val_loss: 0.0673 - val_acc: 0.9821\n",
      "Epoch 4/7\n",
      " - 20s - loss: 0.0916 - acc: 0.9749 - val_loss: 0.0565 - val_acc: 0.9860\n",
      "Epoch 5/7\n",
      " - 20s - loss: 0.0781 - acc: 0.9785 - val_loss: 0.0512 - val_acc: 0.9875\n",
      "Epoch 6/7\n",
      " - 20s - loss: 0.0665 - acc: 0.9808 - val_loss: 0.0474 - val_acc: 0.9882\n",
      "Epoch 7/7\n",
      " - 20s - loss: 0.0615 - acc: 0.9828 - val_loss: 0.0419 - val_acc: 0.9895\n",
      "Train Finished takes: 142.16875290870667 sec\n"
     ]
    },
    {
     "data": {
      "text/plain": [
       "'\\nscores=model.evaluate(X_pca_test,mnist.test.labels)\\nprint(\"Accuuracy=\",scores[1])\\n'"
      ]
     },
     "execution_count": 24,
     "metadata": {
      "tags": []
     },
     "output_type": "execute_result"
    }
   ],
   "source": [
    "from keras.models import Sequential\n",
    "from keras.layers import Dense, Activation, Flatten\n",
    "from keras.layers import Conv2D, MaxPooling2D\n",
    "from keras.optimizers import SGD\n",
    "from keras.layers import Dropout\n",
    "\n",
    "tStart = time.time()\n",
    "\n",
    "model = Sequential()\n",
    "\n",
    "from keras import regularizers\n",
    "\n",
    "# Conv 1\n",
    "model.add(Conv2D(32, (3, 3), padding='same', input_shape=(28,28,1),\n",
    "                kernel_regularizer=regularizers.l2(0.1)))\n",
    "model.add(Activation('relu'))\n",
    "model.add(MaxPooling2D(pool_size=(2, 2)))\n",
    "# Conv 2 \n",
    "model.add(Conv2D(64, (3, 3), padding='same'))\n",
    "model.add(Activation('relu'))\n",
    "model.add(MaxPooling2D(pool_size=(2, 2)))\n",
    "# Conv 3\n",
    "rate=0.35\n",
    "model.add(Dropout(rate))\n",
    "model.add(Conv2D(128, (3, 3), padding='same'))\n",
    "model.add(Activation('relu'))\n",
    "model.add(MaxPooling2D(pool_size=(2, 2)))\n",
    "model.add(Dropout(rate))\n",
    "# Conv 4\n",
    "model.add(Conv2D(256, (3, 3), padding='same'))\n",
    "model.add(Activation('relu'))\n",
    "model.add(MaxPooling2D(pool_size=(2, 2)))\n",
    "model.add(Dropout(rate))\n",
    "\n",
    "# full 1\n",
    "model.add(Flatten())\n",
    "model.add(Dense(200))\n",
    "model.add(Activation('relu'))\n",
    "# output\n",
    "model.add(Dense(10))\n",
    "model.add(Activation('softmax'))\n",
    "\n",
    "#---------- Compile Model ---------- #\n",
    "from keras.optimizers import Adamax,SGD,RMSprop,Adam,Adagrad,Nadam,Adadelta\n",
    "\n",
    "model.compile(loss=\"categorical_crossentropy\",  # mse → categorical_crossentropy\n",
    "              optimizer=RMSprop(),              # SGD → RMSprop\n",
    "              metrics=['accuracy'])\n",
    "\n",
    "# Model Summary \n",
    "model.summary() \n",
    "\n",
    "#---------- Training Model ---------- #\n",
    "#model.fit(x_train, y_train, batch_size=200, epochs=7)\n",
    "train_history_ori = model.fit( org,mnist.train.labels, batch_size = 200, epochs = Epoch,validation_split=0.2,verbose=2 ) \n",
    "\n",
    "#time\n",
    "tEnd = time.time()\n",
    "duration=tEnd-tStart\n",
    "print(\"Train Finished takes:\",duration,\"sec\")\n",
    "# 142.16875290870667 sec, acc 0.9895\n",
    "'''\n",
    "scores=model.evaluate(X_pca_test,mnist.test.labels)\n",
    "print(\"Accuuracy=\",scores[1])\n",
    "'''"
   ]
  },
  {
   "cell_type": "markdown",
   "metadata": {
    "colab_type": "text",
    "id": "dFeGQcZgcoFW"
   },
   "source": [
    "### 結論: 若先做PCA後再放入CNN所需要的時間是CNN的一半，準度只下降不到0.002"
   ]
  },
  {
   "cell_type": "code",
   "execution_count": 0,
   "metadata": {
    "colab": {},
    "colab_type": "code",
    "collapsed": true,
    "id": "cupS2tzBcoFZ"
   },
   "outputs": [],
   "source": []
  },
  {
   "cell_type": "code",
   "execution_count": 0,
   "metadata": {
    "colab": {},
    "colab_type": "code",
    "collapsed": true,
    "id": "R9AsH0Y3coFk"
   },
   "outputs": [],
   "source": []
  },
  {
   "cell_type": "markdown",
   "metadata": {
    "colab_type": "text",
    "id": "JI1-yljbcoFs"
   },
   "source": [
    "## NN--------------------------------------------------------------------------------------------------------------------"
   ]
  },
  {
   "cell_type": "code",
   "execution_count": 0,
   "metadata": {
    "colab": {
     "base_uri": "https://localhost:8080/",
     "height": 3451
    },
    "colab_type": "code",
    "id": "V5uC804FD-cH",
    "outputId": "6494d315-58c0-48ee-c714-915268f384e3"
   },
   "outputs": [
    {
     "name": "stdout",
     "output_type": "stream",
     "text": [
      "Train on 44000 samples, validate on 11000 samples\n",
      "Epoch 1/100\n",
      " - 3s - loss: 1.0601 - categorical_accuracy: 0.7124 - val_loss: 0.2575 - val_categorical_accuracy: 0.9277\n",
      "Epoch 2/100\n",
      " - 2s - loss: 0.3709 - categorical_accuracy: 0.8936 - val_loss: 0.1822 - val_categorical_accuracy: 0.9457\n",
      "Epoch 3/100\n",
      " - 2s - loss: 0.2584 - categorical_accuracy: 0.9214 - val_loss: 0.1565 - val_categorical_accuracy: 0.9547\n",
      "Epoch 4/100\n",
      " - 2s - loss: 0.2069 - categorical_accuracy: 0.9377 - val_loss: 0.1397 - val_categorical_accuracy: 0.9586\n",
      "Epoch 5/100\n",
      " - 3s - loss: 0.1708 - categorical_accuracy: 0.9481 - val_loss: 0.1258 - val_categorical_accuracy: 0.9635\n",
      "Epoch 6/100\n",
      " - 2s - loss: 0.1457 - categorical_accuracy: 0.9555 - val_loss: 0.1223 - val_categorical_accuracy: 0.9659\n",
      "Epoch 7/100\n",
      " - 2s - loss: 0.1269 - categorical_accuracy: 0.9610 - val_loss: 0.1127 - val_categorical_accuracy: 0.9693\n",
      "Epoch 8/100\n",
      " - 2s - loss: 0.1113 - categorical_accuracy: 0.9652 - val_loss: 0.1129 - val_categorical_accuracy: 0.9697\n",
      "Epoch 9/100\n",
      " - 2s - loss: 0.1040 - categorical_accuracy: 0.9682 - val_loss: 0.1089 - val_categorical_accuracy: 0.9716\n",
      "Epoch 10/100\n",
      " - 2s - loss: 0.0916 - categorical_accuracy: 0.9715 - val_loss: 0.1135 - val_categorical_accuracy: 0.9728\n",
      "Epoch 11/100\n",
      " - 2s - loss: 0.0845 - categorical_accuracy: 0.9738 - val_loss: 0.1132 - val_categorical_accuracy: 0.9733\n",
      "Epoch 12/100\n",
      " - 2s - loss: 0.0771 - categorical_accuracy: 0.9752 - val_loss: 0.1175 - val_categorical_accuracy: 0.9723\n",
      "Epoch 13/100\n",
      " - 2s - loss: 0.0710 - categorical_accuracy: 0.9780 - val_loss: 0.1119 - val_categorical_accuracy: 0.9733\n",
      "Epoch 14/100\n",
      " - 2s - loss: 0.0657 - categorical_accuracy: 0.9794 - val_loss: 0.1175 - val_categorical_accuracy: 0.9739\n",
      "Epoch 15/100\n",
      " - 2s - loss: 0.0624 - categorical_accuracy: 0.9804 - val_loss: 0.1156 - val_categorical_accuracy: 0.9753\n",
      "Epoch 16/100\n",
      " - 2s - loss: 0.0574 - categorical_accuracy: 0.9820 - val_loss: 0.1178 - val_categorical_accuracy: 0.9747\n",
      "Epoch 17/100\n",
      " - 2s - loss: 0.0541 - categorical_accuracy: 0.9838 - val_loss: 0.1180 - val_categorical_accuracy: 0.9757\n",
      "Epoch 18/100\n",
      " - 2s - loss: 0.0501 - categorical_accuracy: 0.9837 - val_loss: 0.1219 - val_categorical_accuracy: 0.9756\n",
      "Epoch 19/100\n",
      " - 2s - loss: 0.0486 - categorical_accuracy: 0.9845 - val_loss: 0.1239 - val_categorical_accuracy: 0.9747\n",
      "Epoch 20/100\n",
      " - 2s - loss: 0.0477 - categorical_accuracy: 0.9849 - val_loss: 0.1240 - val_categorical_accuracy: 0.9745\n",
      "Epoch 21/100\n",
      " - 2s - loss: 0.0450 - categorical_accuracy: 0.9861 - val_loss: 0.1263 - val_categorical_accuracy: 0.9760\n",
      "Epoch 22/100\n",
      " - 2s - loss: 0.0389 - categorical_accuracy: 0.9878 - val_loss: 0.1348 - val_categorical_accuracy: 0.9758\n",
      "Epoch 23/100\n",
      " - 2s - loss: 0.0403 - categorical_accuracy: 0.9873 - val_loss: 0.1293 - val_categorical_accuracy: 0.9753\n",
      "Epoch 24/100\n",
      " - 2s - loss: 0.0395 - categorical_accuracy: 0.9875 - val_loss: 0.1300 - val_categorical_accuracy: 0.9751\n",
      "Epoch 25/100\n",
      " - 2s - loss: 0.0360 - categorical_accuracy: 0.9889 - val_loss: 0.1280 - val_categorical_accuracy: 0.9760\n",
      "Epoch 26/100\n",
      " - 2s - loss: 0.0325 - categorical_accuracy: 0.9896 - val_loss: 0.1338 - val_categorical_accuracy: 0.9756\n",
      "Epoch 27/100\n",
      " - 2s - loss: 0.0340 - categorical_accuracy: 0.9893 - val_loss: 0.1357 - val_categorical_accuracy: 0.9764\n",
      "Epoch 28/100\n",
      " - 2s - loss: 0.0291 - categorical_accuracy: 0.9903 - val_loss: 0.1467 - val_categorical_accuracy: 0.9753\n",
      "Epoch 29/100\n",
      " - 2s - loss: 0.0312 - categorical_accuracy: 0.9905 - val_loss: 0.1467 - val_categorical_accuracy: 0.9744\n",
      "Epoch 30/100\n",
      " - 2s - loss: 0.0320 - categorical_accuracy: 0.9903 - val_loss: 0.1401 - val_categorical_accuracy: 0.9769\n",
      "Epoch 31/100\n",
      " - 2s - loss: 0.0285 - categorical_accuracy: 0.9914 - val_loss: 0.1434 - val_categorical_accuracy: 0.9767\n",
      "Epoch 32/100\n",
      " - 2s - loss: 0.0264 - categorical_accuracy: 0.9920 - val_loss: 0.1487 - val_categorical_accuracy: 0.9752\n",
      "Epoch 33/100\n",
      " - 2s - loss: 0.0250 - categorical_accuracy: 0.9921 - val_loss: 0.1482 - val_categorical_accuracy: 0.9769\n",
      "Epoch 34/100\n",
      " - 2s - loss: 0.0288 - categorical_accuracy: 0.9918 - val_loss: 0.1460 - val_categorical_accuracy: 0.9755\n",
      "Epoch 35/100\n",
      " - 2s - loss: 0.0250 - categorical_accuracy: 0.9923 - val_loss: 0.1465 - val_categorical_accuracy: 0.9769\n",
      "Epoch 36/100\n",
      " - 2s - loss: 0.0245 - categorical_accuracy: 0.9918 - val_loss: 0.1533 - val_categorical_accuracy: 0.9754\n",
      "Epoch 37/100\n",
      " - 2s - loss: 0.0237 - categorical_accuracy: 0.9930 - val_loss: 0.1584 - val_categorical_accuracy: 0.9749\n",
      "Epoch 38/100\n",
      " - 2s - loss: 0.0227 - categorical_accuracy: 0.9930 - val_loss: 0.1582 - val_categorical_accuracy: 0.9761\n",
      "Epoch 39/100\n",
      " - 3s - loss: 0.0240 - categorical_accuracy: 0.9923 - val_loss: 0.1468 - val_categorical_accuracy: 0.9751\n",
      "Epoch 40/100\n",
      " - 2s - loss: 0.0203 - categorical_accuracy: 0.9938 - val_loss: 0.1493 - val_categorical_accuracy: 0.9770\n",
      "Epoch 41/100\n",
      " - 2s - loss: 0.0207 - categorical_accuracy: 0.9932 - val_loss: 0.1530 - val_categorical_accuracy: 0.9757\n",
      "Epoch 42/100\n",
      " - 2s - loss: 0.0203 - categorical_accuracy: 0.9937 - val_loss: 0.1503 - val_categorical_accuracy: 0.9757\n",
      "Epoch 43/100\n",
      " - 2s - loss: 0.0201 - categorical_accuracy: 0.9934 - val_loss: 0.1496 - val_categorical_accuracy: 0.9775\n",
      "Epoch 44/100\n",
      " - 2s - loss: 0.0178 - categorical_accuracy: 0.9945 - val_loss: 0.1730 - val_categorical_accuracy: 0.9750\n",
      "Epoch 45/100\n",
      " - 2s - loss: 0.0200 - categorical_accuracy: 0.9939 - val_loss: 0.1530 - val_categorical_accuracy: 0.9772\n",
      "Epoch 46/100\n",
      " - 2s - loss: 0.0175 - categorical_accuracy: 0.9948 - val_loss: 0.1629 - val_categorical_accuracy: 0.9755\n",
      "Epoch 47/100\n",
      " - 2s - loss: 0.0171 - categorical_accuracy: 0.9947 - val_loss: 0.1623 - val_categorical_accuracy: 0.9767\n",
      "Epoch 48/100\n",
      " - 2s - loss: 0.0170 - categorical_accuracy: 0.9952 - val_loss: 0.1581 - val_categorical_accuracy: 0.9761\n",
      "Epoch 49/100\n",
      " - 2s - loss: 0.0167 - categorical_accuracy: 0.9950 - val_loss: 0.1584 - val_categorical_accuracy: 0.9755\n",
      "Epoch 50/100\n",
      " - 2s - loss: 0.0165 - categorical_accuracy: 0.9946 - val_loss: 0.1618 - val_categorical_accuracy: 0.9755\n",
      "Epoch 51/100\n",
      " - 2s - loss: 0.0151 - categorical_accuracy: 0.9953 - val_loss: 0.1715 - val_categorical_accuracy: 0.9758\n",
      "Epoch 52/100\n",
      " - 2s - loss: 0.0169 - categorical_accuracy: 0.9953 - val_loss: 0.1624 - val_categorical_accuracy: 0.9760\n",
      "Epoch 53/100\n",
      " - 2s - loss: 0.0127 - categorical_accuracy: 0.9963 - val_loss: 0.1623 - val_categorical_accuracy: 0.9767\n",
      "Epoch 54/100\n",
      " - 2s - loss: 0.0153 - categorical_accuracy: 0.9952 - val_loss: 0.1651 - val_categorical_accuracy: 0.9772\n",
      "Epoch 55/100\n",
      " - 2s - loss: 0.0141 - categorical_accuracy: 0.9955 - val_loss: 0.1735 - val_categorical_accuracy: 0.9768\n",
      "Epoch 56/100\n",
      " - 2s - loss: 0.0129 - categorical_accuracy: 0.9961 - val_loss: 0.1808 - val_categorical_accuracy: 0.9749\n",
      "Epoch 57/100\n",
      " - 2s - loss: 0.0147 - categorical_accuracy: 0.9956 - val_loss: 0.1747 - val_categorical_accuracy: 0.9752\n",
      "Epoch 58/100\n",
      " - 2s - loss: 0.0160 - categorical_accuracy: 0.9956 - val_loss: 0.1655 - val_categorical_accuracy: 0.9767\n",
      "Epoch 59/100\n",
      " - 2s - loss: 0.0137 - categorical_accuracy: 0.9961 - val_loss: 0.1613 - val_categorical_accuracy: 0.9778\n",
      "Epoch 60/100\n",
      " - 2s - loss: 0.0150 - categorical_accuracy: 0.9956 - val_loss: 0.1642 - val_categorical_accuracy: 0.9772\n",
      "Epoch 61/100\n",
      " - 2s - loss: 0.0132 - categorical_accuracy: 0.9960 - val_loss: 0.1679 - val_categorical_accuracy: 0.9775\n",
      "Epoch 62/100\n",
      " - 2s - loss: 0.0121 - categorical_accuracy: 0.9963 - val_loss: 0.1801 - val_categorical_accuracy: 0.9757\n",
      "Epoch 63/100\n",
      " - 2s - loss: 0.0131 - categorical_accuracy: 0.9962 - val_loss: 0.1785 - val_categorical_accuracy: 0.9749\n",
      "Epoch 64/100\n",
      " - 2s - loss: 0.0132 - categorical_accuracy: 0.9962 - val_loss: 0.1695 - val_categorical_accuracy: 0.9762\n",
      "Epoch 65/100\n",
      " - 2s - loss: 0.0117 - categorical_accuracy: 0.9963 - val_loss: 0.1752 - val_categorical_accuracy: 0.9757\n",
      "Epoch 66/100\n",
      " - 2s - loss: 0.0135 - categorical_accuracy: 0.9962 - val_loss: 0.1772 - val_categorical_accuracy: 0.9769\n",
      "Epoch 67/100\n",
      " - 2s - loss: 0.0127 - categorical_accuracy: 0.9961 - val_loss: 0.1848 - val_categorical_accuracy: 0.9765\n",
      "Epoch 68/100\n",
      " - 2s - loss: 0.0124 - categorical_accuracy: 0.9963 - val_loss: 0.1741 - val_categorical_accuracy: 0.9774\n",
      "Epoch 69/100\n",
      " - 2s - loss: 0.0128 - categorical_accuracy: 0.9965 - val_loss: 0.1789 - val_categorical_accuracy: 0.9760\n"
     ]
    },
    {
     "name": "stdout",
     "output_type": "stream",
     "text": [
      "Epoch 70/100\n",
      " - 2s - loss: 0.0111 - categorical_accuracy: 0.9970 - val_loss: 0.1852 - val_categorical_accuracy: 0.9761\n",
      "Epoch 71/100\n",
      " - 2s - loss: 0.0104 - categorical_accuracy: 0.9971 - val_loss: 0.1796 - val_categorical_accuracy: 0.9765\n",
      "Epoch 72/100\n",
      " - 2s - loss: 0.0107 - categorical_accuracy: 0.9968 - val_loss: 0.1911 - val_categorical_accuracy: 0.9771\n",
      "Epoch 73/100\n",
      " - 2s - loss: 0.0108 - categorical_accuracy: 0.9970 - val_loss: 0.1970 - val_categorical_accuracy: 0.9755\n",
      "Epoch 74/100\n",
      " - 2s - loss: 0.0112 - categorical_accuracy: 0.9969 - val_loss: 0.1889 - val_categorical_accuracy: 0.9765\n",
      "Epoch 75/100\n",
      " - 2s - loss: 0.0118 - categorical_accuracy: 0.9968 - val_loss: 0.1946 - val_categorical_accuracy: 0.9752\n",
      "Epoch 76/100\n",
      " - 2s - loss: 0.0122 - categorical_accuracy: 0.9966 - val_loss: 0.1951 - val_categorical_accuracy: 0.9757\n",
      "Epoch 77/100\n",
      " - 3s - loss: 0.0123 - categorical_accuracy: 0.9964 - val_loss: 0.1911 - val_categorical_accuracy: 0.9761\n",
      "Epoch 78/100\n",
      " - 2s - loss: 0.0097 - categorical_accuracy: 0.9973 - val_loss: 0.2001 - val_categorical_accuracy: 0.9744\n",
      "Epoch 79/100\n",
      " - 2s - loss: 0.0099 - categorical_accuracy: 0.9973 - val_loss: 0.1911 - val_categorical_accuracy: 0.9766\n",
      "Epoch 80/100\n",
      " - 2s - loss: 0.0094 - categorical_accuracy: 0.9974 - val_loss: 0.1985 - val_categorical_accuracy: 0.9755\n",
      "Epoch 81/100\n",
      " - 2s - loss: 0.0099 - categorical_accuracy: 0.9974 - val_loss: 0.1977 - val_categorical_accuracy: 0.9749\n",
      "Epoch 82/100\n",
      " - 2s - loss: 0.0100 - categorical_accuracy: 0.9972 - val_loss: 0.1951 - val_categorical_accuracy: 0.9748\n",
      "Epoch 83/100\n",
      " - 2s - loss: 0.0100 - categorical_accuracy: 0.9973 - val_loss: 0.1935 - val_categorical_accuracy: 0.9764\n",
      "Epoch 84/100\n",
      " - 2s - loss: 0.0100 - categorical_accuracy: 0.9971 - val_loss: 0.1954 - val_categorical_accuracy: 0.9755\n",
      "Epoch 85/100\n",
      " - 3s - loss: 0.0112 - categorical_accuracy: 0.9969 - val_loss: 0.1901 - val_categorical_accuracy: 0.9746\n",
      "Epoch 86/100\n",
      " - 2s - loss: 0.0103 - categorical_accuracy: 0.9972 - val_loss: 0.1969 - val_categorical_accuracy: 0.9757\n",
      "Epoch 87/100\n",
      " - 2s - loss: 0.0100 - categorical_accuracy: 0.9975 - val_loss: 0.1945 - val_categorical_accuracy: 0.9760\n",
      "Epoch 88/100\n",
      " - 2s - loss: 0.0105 - categorical_accuracy: 0.9968 - val_loss: 0.1855 - val_categorical_accuracy: 0.9755\n",
      "Epoch 89/100\n",
      " - 2s - loss: 0.0092 - categorical_accuracy: 0.9974 - val_loss: 0.1838 - val_categorical_accuracy: 0.9764\n",
      "Epoch 90/100\n",
      " - 2s - loss: 0.0114 - categorical_accuracy: 0.9970 - val_loss: 0.1921 - val_categorical_accuracy: 0.9756\n",
      "Epoch 91/100\n",
      " - 2s - loss: 0.0109 - categorical_accuracy: 0.9971 - val_loss: 0.1910 - val_categorical_accuracy: 0.9759\n",
      "Epoch 92/100\n",
      " - 2s - loss: 0.0107 - categorical_accuracy: 0.9971 - val_loss: 0.1925 - val_categorical_accuracy: 0.9754\n",
      "Epoch 93/100\n",
      " - 2s - loss: 0.0091 - categorical_accuracy: 0.9975 - val_loss: 0.1971 - val_categorical_accuracy: 0.9751\n",
      "Epoch 94/100\n",
      " - 2s - loss: 0.0101 - categorical_accuracy: 0.9973 - val_loss: 0.1922 - val_categorical_accuracy: 0.9758\n",
      "Epoch 95/100\n",
      " - 2s - loss: 0.0098 - categorical_accuracy: 0.9973 - val_loss: 0.1906 - val_categorical_accuracy: 0.9756\n",
      "Epoch 96/100\n",
      " - 2s - loss: 0.0100 - categorical_accuracy: 0.9973 - val_loss: 0.1966 - val_categorical_accuracy: 0.9748\n",
      "Epoch 97/100\n",
      " - 2s - loss: 0.0080 - categorical_accuracy: 0.9980 - val_loss: 0.1962 - val_categorical_accuracy: 0.9762\n",
      "Epoch 98/100\n",
      " - 2s - loss: 0.0085 - categorical_accuracy: 0.9978 - val_loss: 0.1896 - val_categorical_accuracy: 0.9761\n",
      "Epoch 99/100\n",
      " - 2s - loss: 0.0081 - categorical_accuracy: 0.9978 - val_loss: 0.1926 - val_categorical_accuracy: 0.9762\n",
      "Epoch 100/100\n",
      " - 2s - loss: 0.0087 - categorical_accuracy: 0.9977 - val_loss: 0.1949 - val_categorical_accuracy: 0.9759\n",
      "Train Finished takes: 236.24971103668213 sec\n"
     ]
    }
   ],
   "source": [
    "tStart = time.time()\n",
    "model = Sequential()\n",
    "layers = 1\n",
    "units = 128\n",
    "#用2層fully connect全連接層(不含Input和Output層)做NN\n",
    "model.add(Dense(units, input_dim=NCOMPONENTS, activation='relu'))\n",
    "#加bias\n",
    "model.add(GaussianNoise(pca_std))\n",
    "for i in range(layers):\n",
    "    model.add(Dense(units, activation='relu'))\n",
    "    #加bias\n",
    "    model.add(GaussianNoise(pca_std))\n",
    "    model.add(Dropout(0.2))\n",
    "model.add(Dense(10, activation='softmax'))\n",
    "model.compile(loss='categorical_crossentropy', optimizer='rmsprop', metrics=['categorical_accuracy'])\n",
    "train_history=model.fit(X_pca_train,mnist.train.labels, epochs=100, batch_size=100, verbose=2,validation_split=0.2)\n",
    "tEnd = time.time()\n",
    "duration=tEnd-tStart\n",
    "print(\"Train Finished takes:\",duration,\"sec\")"
   ]
  },
  {
   "cell_type": "code",
   "execution_count": 0,
   "metadata": {
    "colab": {
     "base_uri": "https://localhost:8080/",
     "height": 294
    },
    "colab_type": "code",
    "id": "u9eDpbog_1Xf",
    "outputId": "f7470821-9c7f-40a6-d0dc-223f89b4affd",
    "scrolled": true
   },
   "outputs": [
    {
     "ename": "KeyError",
     "evalue": "'categorical_accuracy'",
     "output_type": "error",
     "traceback": [
      "\u001b[1;31m---------------------------------------------------------------------------\u001b[0m",
      "\u001b[1;31mKeyError\u001b[0m                                  Traceback (most recent call last)",
      "\u001b[1;32m<ipython-input-51-9e385f94f0c3>\u001b[0m in \u001b[0;36m<module>\u001b[1;34m()\u001b[0m\n\u001b[1;32m----> 1\u001b[1;33m \u001b[0mshow_train_history\u001b[0m\u001b[1;33m(\u001b[0m\u001b[0mtrain_history\u001b[0m\u001b[1;33m,\u001b[0m\u001b[1;34m\"categorical_accuracy\"\u001b[0m\u001b[1;33m,\u001b[0m\u001b[1;34m\"val_categorical_accuracy\"\u001b[0m\u001b[1;33m)\u001b[0m\u001b[1;33m\u001b[0m\u001b[0m\n\u001b[0m",
      "\u001b[1;32m<ipython-input-50-d66f38b08118>\u001b[0m in \u001b[0;36mshow_train_history\u001b[1;34m(train_history, train, validation)\u001b[0m\n\u001b[0;32m      1\u001b[0m \u001b[1;32mdef\u001b[0m \u001b[0mshow_train_history\u001b[0m\u001b[1;33m(\u001b[0m\u001b[0mtrain_history\u001b[0m\u001b[1;33m,\u001b[0m\u001b[0mtrain\u001b[0m\u001b[1;33m,\u001b[0m\u001b[0mvalidation\u001b[0m\u001b[1;33m)\u001b[0m\u001b[1;33m:\u001b[0m\u001b[1;33m\u001b[0m\u001b[0m\n\u001b[1;32m----> 2\u001b[1;33m   \u001b[0mplt\u001b[0m\u001b[1;33m.\u001b[0m\u001b[0mplot\u001b[0m\u001b[1;33m(\u001b[0m\u001b[0mtrain_history\u001b[0m\u001b[1;33m.\u001b[0m\u001b[0mhistory\u001b[0m\u001b[1;33m[\u001b[0m\u001b[0mtrain\u001b[0m\u001b[1;33m]\u001b[0m\u001b[1;33m)\u001b[0m\u001b[1;33m\u001b[0m\u001b[0m\n\u001b[0m\u001b[0;32m      3\u001b[0m   \u001b[0mplt\u001b[0m\u001b[1;33m.\u001b[0m\u001b[0mplot\u001b[0m\u001b[1;33m(\u001b[0m\u001b[0mtrain_history\u001b[0m\u001b[1;33m.\u001b[0m\u001b[0mhistory\u001b[0m\u001b[1;33m[\u001b[0m\u001b[0mvalidation\u001b[0m\u001b[1;33m]\u001b[0m\u001b[1;33m)\u001b[0m\u001b[1;33m\u001b[0m\u001b[0m\n\u001b[0;32m      4\u001b[0m   \u001b[0mplt\u001b[0m\u001b[1;33m.\u001b[0m\u001b[0mtitle\u001b[0m\u001b[1;33m(\u001b[0m\u001b[1;34m\"Train History\"\u001b[0m\u001b[1;33m)\u001b[0m\u001b[1;33m\u001b[0m\u001b[0m\n\u001b[0;32m      5\u001b[0m   \u001b[0mplt\u001b[0m\u001b[1;33m.\u001b[0m\u001b[0mylabel\u001b[0m\u001b[1;33m(\u001b[0m\u001b[0mtrain\u001b[0m\u001b[1;33m)\u001b[0m\u001b[1;33m\u001b[0m\u001b[0m\n",
      "\u001b[1;31mKeyError\u001b[0m: 'categorical_accuracy'"
     ]
    }
   ],
   "source": [
    "show_train_history(train_history,\"categorical_accuracy\",\"val_categorical_accuracy\")"
   ]
  },
  {
   "cell_type": "code",
   "execution_count": 0,
   "metadata": {
    "colab": {},
    "colab_type": "code",
    "collapsed": true,
    "id": "0ZaRFupmCMm5"
   },
   "outputs": [],
   "source": []
  },
  {
   "cell_type": "code",
   "execution_count": 0,
   "metadata": {
    "colab": {
     "base_uri": "https://localhost:8080/",
     "height": 68
    },
    "colab_type": "code",
    "id": "jg-jcYYw6JoF",
    "outputId": "ae3a0c5d-bc70-4c20-eaaf-d446d5e71af4"
   },
   "outputs": [
    {
     "name": "stdout",
     "output_type": "stream",
     "text": [
      "10000/10000 [==============================] - 1s 77us/step\n",
      "\n",
      "Accuuracy= 0.9735\n"
     ]
    }
   ],
   "source": [
    "scores=model.evaluate(X_pca_test,mnist.test.labels)\n",
    "print()\n",
    "print(\"Accuuracy=\",scores[1])"
   ]
  },
  {
   "cell_type": "code",
   "execution_count": 0,
   "metadata": {
    "colab": {},
    "colab_type": "code",
    "collapsed": true,
    "id": "95uIOuS29M7J"
   },
   "outputs": [],
   "source": [
    "prediction=model.predict_classes(X_pca_test)"
   ]
  },
  {
   "cell_type": "code",
   "execution_count": 0,
   "metadata": {
    "colab": {},
    "colab_type": "code",
    "id": "uaTSOVhY6_lU",
    "outputId": "b6bbe8e2-d65a-45db-f39c-3ccaff9c9363"
   },
   "outputs": [
    {
     "data": {
      "text/plain": [
       "array([7, 2, 1, ..., 4, 5, 6], dtype=int64)"
      ]
     },
     "execution_count": 19,
     "metadata": {
      "tags": []
     },
     "output_type": "execute_result"
    }
   ],
   "source": [
    "prediction"
   ]
  },
  {
   "cell_type": "code",
   "execution_count": 0,
   "metadata": {
    "colab": {
     "base_uri": "https://localhost:8080/",
     "height": 357
    },
    "colab_type": "code",
    "id": "76MTi3-VD-ch",
    "outputId": "6c8ac37d-ac7d-489e-81ad-12021ce04491"
   },
   "outputs": [
    {
     "name": "stdout",
     "output_type": "stream",
     "text": [
      "_________________________________________________________________\n",
      "Layer (type)                 Output Shape              Param #   \n",
      "=================================================================\n",
      "dense_1 (Dense)              (None, 128)               51328     \n",
      "_________________________________________________________________\n",
      "gaussian_noise_1 (GaussianNo (None, 128)               0         \n",
      "_________________________________________________________________\n",
      "dense_2 (Dense)              (None, 128)               16512     \n",
      "_________________________________________________________________\n",
      "gaussian_noise_2 (GaussianNo (None, 128)               0         \n",
      "_________________________________________________________________\n",
      "dropout_1 (Dropout)          (None, 128)               0         \n",
      "_________________________________________________________________\n",
      "dense_3 (Dense)              (None, 10)                1290      \n",
      "=================================================================\n",
      "Total params: 69,130\n",
      "Trainable params: 69,130\n",
      "Non-trainable params: 0\n",
      "_________________________________________________________________\n",
      "None\n"
     ]
    }
   ],
   "source": [
    "print(model.summary())"
   ]
  },
  {
   "cell_type": "code",
   "execution_count": 0,
   "metadata": {
    "colab": {},
    "colab_type": "code",
    "collapsed": true,
    "id": "5Gd5ysQLD-dE"
   },
   "outputs": [],
   "source": []
  }
 ],
 "metadata": {
  "colab": {
   "collapsed_sections": [],
   "name": "3ver_Apply_PCA_pre_processing_before_CNN_mnist.ipynb",
   "provenance": [],
   "version": "0.3.2"
  },
  "kernelspec": {
   "display_name": "Python 3",
   "language": "python",
   "name": "python3"
  },
  "language_info": {
   "codemirror_mode": {
    "name": "ipython",
    "version": 3
   },
   "file_extension": ".py",
   "mimetype": "text/x-python",
   "name": "python",
   "nbconvert_exporter": "python",
   "pygments_lexer": "ipython3",
   "version": "3.7.2"
  }
 },
 "nbformat": 4,
 "nbformat_minor": 1
}
